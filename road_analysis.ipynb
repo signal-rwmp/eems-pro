{
 "cells": [
  {
   "cell_type": "code",
   "execution_count": 23,
   "metadata": {},
   "outputs": [],
   "source": [
    "import geopandas as gpd\n",
    "import pandas as pd\n",
    "from shapely.geometry import Point,LineString\n",
    "import networkx as nx\n",
    "from shapely.ops import split, snap\n",
    "from shapely.geometry import Point, LineString\n"
   ]
  },
  {
   "cell_type": "code",
   "execution_count": 24,
   "metadata": {},
   "outputs": [],
   "source": [
    "# Read the road dataset\n",
    "roads = gpd.read_file(r\"C:\\Users\\bsf31\\Documents\\post-meds\\data\\signal\\tl_2023_06083_roads_sbco.gpkg\")\n",
    "# Dissolve the road lines to merge connected segments\n",
    "dissolved_roads = roads.dissolve(by='LINEARID') \n"
   ]
  },
  {
   "cell_type": "markdown",
   "metadata": {},
   "source": [
    "# Intersections & Deadends"
   ]
  },
  {
   "cell_type": "code",
   "execution_count": 25,
   "metadata": {},
   "outputs": [],
   "source": [
    "# Extract the start and end points of each line\n",
    "start_points = dissolved_roads.geometry.apply(lambda x: Point(x.coords[0]))\n",
    "end_points = dissolved_roads.geometry.apply(lambda x: Point(x.coords[-1]))\n",
    "# Concatenate the start and end points into a single GeoSeries using pd.concat()\n",
    "all_points = gpd.GeoSeries(pd.concat([start_points, end_points]), crs=roads.crs)\n",
    "# Count the occurrence of each point\n",
    "point_counts = all_points.value_counts()\n",
    "\n",
    "\n",
    "# Filter the points that appear only once (intersections & deadends)\n",
    "intersections_deadends = point_counts[point_counts == 1]\n",
    "# Create a dictionary with the dead end points and their counts\n",
    "intersections_deadends_data = {'geometry': intersections_deadends.index, 'count': intersections_deadends.values}\n",
    " #Create a GeoDataFrame with the dead end points\n",
    "intersections_deadends_data_points = gpd.GeoDataFrame(intersections_deadends_data, crs=roads.crs)\n",
    "# Save the dead end points to a new shapefile\n",
    "intersections_deadends_data_points.to_file(r\"C:\\Users\\bsf31\\Documents\\post-meds\\data\\signal\\sbco_intersection_deadends.gpkg\", driver='GPKG')\n"
   ]
  },
  {
   "cell_type": "markdown",
   "metadata": {},
   "source": [
    "# Deadends\n",
    "## converts a dataset of roads into a graph representation and identifies dead-end points within that network.\n",
    "\n",
    "* Graph Initialization: The process begins with the initialization of a graph. In this context, a graph is a mathematical structure used to model pairwise relations between objects. Here, roads and intersections are modeled as edges and nodes, respectively.\n",
    "* Geometry Simplification and Conversion: Each road segment (line geometry) from the dataset is simplified to remove minor irregularities and potential complexities. This simplification helps in avoiding inaccuracies when converting these geometries into a graph format. The simplified line geometries are then converted into a series of points (nodes in the graph), and consecutive points are connected by edges. This effectively builds the network where paths (edges) between points (nodes) represent segments of the road.\n",
    "* Identification of Dead Ends: Once the graph is built, the code identifies dead ends in the network. A dead end is recognized by having a node with only one connected edge (degree of 1). This means there is no alternate path from that node, signifying the end of a road without any junctions."
   ]
  },
  {
   "cell_type": "code",
   "execution_count": 26,
   "metadata": {},
   "outputs": [],
   "source": [
    "roads_dissolved = roads.dissolve(by='LINEARID') \n",
    "# Initialize a new graph. This will be used to store the road network where nodes represent junctions or endpoints of roads, and edges represent the roads themselves.\n",
    "G = nx.Graph()\n",
    "\n",
    "# Iterate over each row in the dissolved roads GeoDataFrame. Each row corresponds to a road segment.\n",
    "for index, row in roads_dissolved.iterrows():\n",
    "    # Simplify the geometry of the road segment to remove minor variations and potential self-intersections. This is important for accurately converting the geometries into a graph structure without unnecessary complexity.\n",
    "    line = row.geometry.simplify(tolerance=0.01)\n",
    "    \n",
    "    # Check if the simplified geometry is a LineString (a simple line shape). We only want to process line shapes as these represent the roads.\n",
    "    if isinstance(line, LineString):\n",
    "        # Convert the line's coordinates into a list of tuples. Each tuple represents a point (node) on the line.\n",
    "        points = list(map(tuple, line.coords))\n",
    "        \n",
    "        # Add these points as a path in the graph. This connects each consecutive pair of points with an edge, effectively building the road network in graph form.\n",
    "        nx.add_path(G, points)\n",
    "\n",
    "# Identify all nodes in the graph that have a degree of 1. A node with a degree of 1 only has one connection (edge) to another node, which means it is an endpoint without any further continuation - a dead end.\n",
    "dead_ends = [node for node, degree in G.degree() if degree == 1]\n",
    "\n",
    "# Convert the list of dead end nodes (points) back into a GeoDataFrame for further spatial analysis. This allows us to use geographic functions on the points.\n",
    "dead_ends_gdf = gpd.GeoDataFrame(geometry=gpd.points_from_xy([p[0] for p in dead_ends], [p[1] for p in dead_ends]), crs=roads.crs)\n"
   ]
  },
  {
   "cell_type": "code",
   "execution_count": 27,
   "metadata": {},
   "outputs": [],
   "source": [
    "# Save the dead end points to a new shapefile\n",
    "dead_ends_gdf.to_file(r\"C:\\Users\\bsf31\\Documents\\post-meds\\data\\signal\\sbco_deadends.gpkg\", driver='GPKG')"
   ]
  },
  {
   "cell_type": "markdown",
   "metadata": {},
   "source": [
    "# Intersections"
   ]
  },
  {
   "cell_type": "code",
   "execution_count": 29,
   "metadata": {},
   "outputs": [],
   "source": [
    "# Perform a spatial difference\n",
    " #This operation returns the geometric difference of points in intersections_deadends that are not in dead_end_points.\n",
    "true_intersections = gpd.overlay(intersections_deadends_data_points, dead_ends_gdf, how='difference')\n",
    "\n",
    "# Now true_intersections contains only the intersection points that are not dead ends.\n",
    "# Optionally, save to file\n",
    "true_intersections.to_file(r\"C:\\Users\\bsf31\\Documents\\post-meds\\data\\signal\\sbco_intersections.gpkg\", driver='GPKG')"
   ]
  },
  {
   "cell_type": "markdown",
   "metadata": {},
   "source": [
    "# QGIS\n",
    "\n",
    "* using  '***Extract specific vertices***' with 0, -1 as input on original roads layer, produces 'Vertices'\n",
    "* Take difference between 'Vertices' and 'sbco_deadends' produced from this notebook, produces 'Difference'\n",
    "* Using 'Difference' again take difference using 'true_intersection' produced from this notebook, this produces another 'Differece' layer which is the remaining intersections not captured in this code.\n",
    "\n",
    "Result is dependent on quality of original road layer. REQUIRES manual inspection, especially in long isolated roads and in urban areas with many intersections. In long roads a random vertix can be sometimes found that ties one road together. In urban areas with high number of intersections the many vertices are harder to capture. \n",
    "\n",
    "If 100% coverage of intersections is desired, — this analysis doesn't absolutely require it as the roads that are missing intersections reach an intersection or deadend — then the reccomendation is that after manual inspection and removal of unwanted points, merge the three layers of sbco_deadends, sbco_intersections, and the final difference layer. In qgis use the extract all vertices tool and take the difference with the merged layer. This will produce an extreme amount of points, create a blank shapefile, cut and paste the intersection points desired manually.\n",
    "\n",
    "Using simplify on roads  may help reduce when extracting all vertices."
   ]
  },
  {
   "cell_type": "markdown",
   "metadata": {},
   "source": [
    "# Single Egress Points"
   ]
  },
  {
   "cell_type": "code",
   "execution_count": null,
   "metadata": {},
   "outputs": [],
   "source": [
    "# add intersection points as nodes in your graph \n",
    "for index, point in true_intersections.iterrows():\n",
    "    G.add_node((point.geometry.x, point.geometry.y))\n",
    "\n",
    "# Assuming you have a method to associate roads to these nodes\n",
    "# (edges would already be added in the graph construction phase).\n",
    "\n",
    "# Now, let's analyze single egress by removing intersection nodes temporarily\n",
    "single_egress_points = []\n",
    "for node in G.nodes():\n",
    "    if G.degree(node) > 1:  # Ensure it's an intersection node\n",
    "        G_temp = G.copy()\n",
    "        G_temp.remove_node(node)\n",
    "        if nx.is_connected(G_temp) == False:\n",
    "            # Check how many components are formed\n",
    "            components = list(nx.connected_components(G_temp))\n",
    "            if len(components) > 1:\n",
    "                # If more than one component, this node is a single egress point\n",
    "                single_egress_points.append(node)\n",
    "\n",
    "# Convert single egress points back to GeoDataFrame for use in GIS\n",
    "single_egress_points_gdf = gpd.GeoDataFrame(geometry=gpd.points_from_xy([p[0] for p in single_egress_points], [p[1] for p in single_egress_points]), crs=roads.crs)\n",
    "\n",
    "# Optionally, save to file\n",
    "single_egress_points_gdf.to_file(r\"C:\\Users\\bsf31\\Documents\\post-meds\\data\\signal\\single_egress_points.gpkg\", driver='GPKG')"
   ]
  },
  {
   "cell_type": "code",
   "execution_count": null,
   "metadata": {},
   "outputs": [],
   "source": [
    "# # Identify nodes that, when removed, increase the number of connected components - these nodes represent single egress points.\n",
    "# cut_points = list(nx.articulation_points(G))\n",
    "\n",
    "# # Convert these nodes back to a GeoDataFrame for spatial analysis\n",
    "# cut_points_gdf = gpd.GeoDataFrame(geometry=gpd.points_from_xy([p[0] for p in cut_points], [p[1] for p in cut_points]))"
   ]
  },
  {
   "cell_type": "code",
   "execution_count": null,
   "metadata": {},
   "outputs": [],
   "source": [
    "# # Assuming roads_dissolved is your GeoDataFrame of roads\n",
    "# G = nx.Graph()\n",
    "\n",
    "# # Convert line geometries to graph, focusing only on true endpoints\n",
    "# for line in roads_dissolved.geometry:\n",
    "#     if isinstance(line, LineString):\n",
    "#         # Simplify the line to minimize unnecessary intermediate points\n",
    "#         simplified_line = line.simplify(tolerance=0.01)\n",
    "#         endpoints = [simplified_line.coords[0], simplified_line.coords[-1]]\n",
    "#         nx.add_path(G, endpoints)\n",
    "\n",
    "# # Use DBSCAN or similar to cluster endpoints to mitigate multiple close points issue\n",
    "# coords = [point for point, degree in G.nodes(data=True) if G.degree(point) == 1]\n",
    "# db = DBSCAN(eps=10, min_samples=1).fit(coords)  # Adjust eps based on your spatial resolution needs\n",
    "# clusters = db.labels_\n",
    "\n",
    "# # Convert clustered endpoints back to a GeoDataFrame\n",
    "# clustered_points = [MultiPoint([coords[i] for i in range(len(coords)) if clusters[i] == k]).centroid for k in set(clusters)]\n",
    "# dead_ends_gdf = gpd.GeoDataFrame(geometry=gpd.points_from_xy([p.x for p in clustered_points], [p.y for p in clustered_points]))\n"
   ]
  },
  {
   "cell_type": "code",
   "execution_count": null,
   "metadata": {},
   "outputs": [],
   "source": [
    "# Identifying articulation points and analyzing their impact\n",
    "articulation_points = list(nx.articulation_points(G))\n",
    "impact_dict = {}\n",
    "\n",
    "# Analyzing the size of components when an articulation point is removed\n",
    "for point in articulation_points:\n",
    "    G_temp = G.copy()\n",
    "    G_temp.remove_node(point)\n",
    "    components = list(nx.connected_components(G_temp))\n",
    "    # Find the largest component size when the point is removed\n",
    "    largest_component_size = max([len(comp) for comp in components])\n",
    "    total_size = len(G_temp.nodes())\n",
    "    isolated_size = total_size - largest_component_size\n",
    "    # Store the impact information\n",
    "    impact_dict[point] = isolated_size\n",
    "\n",
    "# Filtering to find significant single egress points\n",
    "significant_points = {k: v for k, v in impact_dict.items() if v > 50}  # adjust 50 to your specific threshold\n",
    "\n",
    "# Convert significant articulation points back to GeoDataFrame\n",
    "significant_points_gdf = gpd.GeoDataFrame(\n",
    "    geometry=gpd.points_from_xy([p[0] for p in significant_points.keys()], [p[1] for p in significant_points.keys()]),\n",
    "    crs=roads.crs\n",
    ")\n"
   ]
  },
  {
   "cell_type": "code",
   "execution_count": 13,
   "metadata": {},
   "outputs": [],
   "source": [
    "# Save the dead end points to a new shapefile\n",
    "significant_points_gdf.to_file(r\"C:\\Users\\bsf31\\Documents\\post-meds\\data\\signal\\sbco_single_egress_points2.gpkg\", driver='GPKG')"
   ]
  },
  {
   "cell_type": "code",
   "execution_count": null,
   "metadata": {},
   "outputs": [],
   "source": []
  },
  {
   "cell_type": "code",
   "execution_count": 21,
   "metadata": {},
   "outputs": [],
   "source": []
  },
  {
   "cell_type": "code",
   "execution_count": null,
   "metadata": {},
   "outputs": [],
   "source": [
    "# # Extract the start and end points of each line\n",
    "# start_points = dissolved_roads.geometry.apply(lambda x: Point(x.coords[0]))\n",
    "# end_points = dissolved_roads.geometry.apply(lambda x: Point(x.coords[-1]))\n",
    "# # Concatenate the start and end points into a single GeoSeries using pd.concat()\n",
    "# all_points = gpd.GeoSeries(pd.concat([start_points, end_points]), crs=roads.crs)\n",
    "# # Count the occurrence of each point\n",
    "# point_counts = all_points.value_counts()\n",
    "\n",
    "\n",
    "# # Filter the points that appear only once (dead ends)\n",
    "# dead_ends = point_counts[point_counts == 1]\n",
    "# # Create a dictionary with the dead end points and their counts\n",
    "# dead_end_data = {'geometry': dead_ends.index, 'count': dead_ends.values}\n",
    "#  #Create a GeoDataFrame with the dead end points\n",
    "# dead_end_points = gpd.GeoDataFrame(dead_end_data, crs=roads.crs)\n",
    "# # Save the dead end points to a new shapefile\n",
    "# dead_end_points.to_file(r\"C:\\Users\\bsf31\\Documents\\post-meds\\data\\signal\\sbco_deadends.gpkg\", driver='GPKG')\n",
    "# #2\n",
    "\n",
    "# # Create a spatial index for the road lines\n",
    "# spatial_index = dissolved_roads.sindex\n",
    "\n",
    "# # Function to check if a point is a dead end\n",
    "# def is_dead_end(point):\n",
    "#     # Create a small buffer around the point\n",
    "#     buffer_dist = 1e-5  # Adjust the buffer distance as needed\n",
    "#     buffer = point.buffer(buffer_dist)\n",
    "    \n",
    "#     # Find the indices of the lines that intersect the buffer\n",
    "#     possible_matches_index = list(spatial_index.intersection(buffer.bounds))\n",
    "#     possible_matches = dissolved_roads.iloc[possible_matches_index]\n",
    "    \n",
    "#     # Check if the point touches exactly one line geometry\n",
    "#     touching_lines = [line for line in possible_matches.geometry if point.touches(line)]\n",
    "    \n",
    "#     return len(touching_lines) == 1\n",
    "# # Function to check if a point is a dead end\n",
    "# def is_dead_end(point):\n",
    "#     # Create a small buffer around the point\n",
    "#     buffer_dist = 1e-8  # Adjust the buffer distance as needed\n",
    "#     buffer = point.buffer(buffer_dist)\n",
    "    \n",
    "#     # Find the indices of the lines that intersect the buffer\n",
    "#     possible_matches_index = list(spatial_index.intersection(buffer.bounds))\n",
    "#     possible_matches = dissolved_roads.iloc[possible_matches_index]\n",
    "    \n",
    "#     # Check if the point touches any line geometries\n",
    "#     touches_line = any(point.touches(line) for line in possible_matches.geometry)\n",
    "    \n",
    "#     return not touches_line\n",
    " \n",
    "\n",
    "# # Identify the dead end points\n",
    "# dead_ends2 = all_points[all_points.apply(is_dead_end)]\n",
    "# # Create a GeoDataFrame with the dead end points\n",
    "# dead_end_points2 = gpd.GeoDataFrame(geometry=dead_ends2, crs=roads.crs)\n",
    "\n",
    "\n",
    "# # Read the road dataset\n",
    "# roads = gpd.read_file(r\"C:\\Users\\bsf31\\Documents\\post-meds\\data\\signal\\tl_2023_06083_roads_sbco.gpkg\")\n",
    "# # Dissolve the road lines to merge connected segments\n",
    "# dissolved_roads = roads.dissolve(by='LINEARID') \n",
    "# # Reset the index of dissolved_roads\n",
    "# dissolved_roads = dissolved_roads.reset_index()\n",
    "# # Extract the start and end points of each line\n",
    "# start_points = dissolved_roads.geometry.apply(lambda x: Point(x.coords[0]))\n",
    "# end_points = dissolved_roads.geometry.apply(lambda x: Point(x.coords[-1]))\n",
    "# # Concatenate the start and end points into a single GeoSeries\n",
    "# all_points = pd.concat([start_points, end_points])\n",
    "\n",
    "# # Create a DataFrame where LINEARID is repeated for each start and end point\n",
    "# repeated_linearid = dissolved_roads.loc[dissolved_roads.index.repeat(2), 'LINEARID'].reset_index(drop=True)\n",
    "# # Create a GeoDataFrame with all points and their corresponding LINEARID\n",
    "# all_points_gdf = gpd.GeoDataFrame({'geometry': all_points, 'LINEARID': repeated_linearid})\n",
    "\n",
    "# # Count the number of occurrences of each LINEARID for each point\n",
    "# linearid_counts = all_points_gdf.groupby(all_points_gdf.geometry)['LINEARID'].count()\n",
    "\n",
    "# # Identify the dead end points (points with only one occurrence of LINEARID)\n",
    "# dead_ends = linearid_counts[linearid_counts == 1].index\n",
    "\n",
    "# # Create a GeoDataFrame with the dead end points\n",
    "# dead_end_points = gpd.GeoDataFrame(geometry=dead_ends, crs=roads.crs)\n",
    "\n",
    "# # Save the dead end points to a new shapefile\n",
    "# dead_end_points.to_file(r\"C:\\Users\\bsf31\\Documents\\post-meds\\data\\signal\\sbco_deadends.gpkg\", driver='GPKG')\n",
    "# # Load the road data\n",
    "# roads = gpd.read_file(r\"C:\\Users\\bsf31\\Documents\\post-meds\\data\\signal\\tl_2023_06083_roads_sbco.gpkg\")\n",
    "\n"
   ]
  }
 ],
 "metadata": {
  "kernelspec": {
   "display_name": "dev_env",
   "language": "python",
   "name": "python3"
  },
  "language_info": {
   "codemirror_mode": {
    "name": "ipython",
    "version": 3
   },
   "file_extension": ".py",
   "mimetype": "text/x-python",
   "name": "python",
   "nbconvert_exporter": "python",
   "pygments_lexer": "ipython3",
   "version": "3.11.5"
  }
 },
 "nbformat": 4,
 "nbformat_minor": 2
}
