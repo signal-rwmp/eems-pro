{
 "cells": [
  {
   "cell_type": "code",
   "execution_count": 1,
   "metadata": {},
   "outputs": [],
   "source": [
    "import geopandas as gpd\n",
    "import pandas as pd\n",
    "import numpy as np\n",
    "from shapely.geometry import Polygon\n",
    "import geopandas as gpd\n",
    "from rasterstats import zonal_stats"
   ]
  },
  {
   "cell_type": "code",
   "execution_count": null,
   "metadata": {},
   "outputs": [],
   "source": [
    "import sys\n",
    "# Adjust the path below to match the location of your QGIS Python modules\n",
    "sys.path.append('C:/Program Files/QGIS 3.32.3/apps/qgis/python')\n",
    "from qgis.core import *\n"
   ]
  },
  {
   "cell_type": "code",
   "execution_count": null,
   "metadata": {},
   "outputs": [],
   "source": [
    "from qgis.core import QgsApplication\n",
    "\n",
    "# Set the prefix path to the root of the QGIS installation\n",
    "QgsApplication.setPrefixPath(\"C:/Program Files/QGIS 3.32.3\", True)\n",
    "\n",
    "qgs = QgsApplication([], False)\n",
    "qgs.initQgis()\n",
    "\n",
    "# Your PyQGIS code goes here\n",
    "\n",
    "qgs.exitQgis()\n",
    "\n"
   ]
  },
  {
   "cell_type": "code",
   "execution_count": null,
   "metadata": {},
   "outputs": [],
   "source": [
    "path = r\"G:\\My Drive\\SIGNAL\\data\\eems_avocado_esha\\rwmp_area.gpkg\""
   ]
  },
  {
   "cell_type": "code",
   "execution_count": null,
   "metadata": {},
   "outputs": [],
   "source": [
    "# Load your layer from the GeoPackage\n",
    "gdf = gpd.read_file(path)\n",
    "\n"
   ]
  },
  {
   "cell_type": "code",
   "execution_count": null,
   "metadata": {},
   "outputs": [],
   "source": [
    "# Get the bounds of your study area\n",
    "xmin, ymin, xmax, ymax = gdf.total_bounds\n",
    "\n",
    "# Define the size of your fishnet cells\n",
    "cell_size = 60\n",
    "\n",
    "# Generate the coordinates for the fishnet\n",
    "x_coords = np.arange(xmin, xmax + cell_size, cell_size)\n",
    "y_coords = np.arange(ymin, ymax + cell_size, cell_size)\n",
    "\n",
    "# Create the fishnet grid cells\n",
    "grid_cells = []\n",
    "for x in x_coords:\n",
    "    for y in y_coords:\n",
    "        # Define the polygon for each grid cell\n",
    "        polygon = Polygon([(x, y), (x + cell_size, y), (x + cell_size, y - cell_size), (x, y - cell_size)])\n",
    "        grid_cells.append(polygon)\n",
    "\n",
    "# Create a GeoDataFrame from the grid cells\n",
    "grid = gpd.GeoDataFrame(grid_cells, columns=['geometry'])\n",
    "\n",
    "# Set the same CRS as your input layer\n",
    "grid.crs = gdf.crs\n",
    "\n",
    "# Save the grid to a new file (optional)\n",
    "grid.to_file('G:/My Drive/SIGNAL/data/eems_avocado_esha/fishnet_grid.gpkg', layer='fishnet', driver='GPKG')"
   ]
  },
  {
   "cell_type": "code",
   "execution_count": null,
   "metadata": {},
   "outputs": [],
   "source": [
    "# Ensure both GeoDataFrames are in the same CRS\n",
    "grid = grid.to_crs(gdf.crs)\n",
    "\n",
    "# Perform the spatial intersection (overlay) to crop the grid\n",
    "cropped_grid = gpd.overlay(grid, gdf, how='intersection')\n",
    "\n",
    "# Save the cropped grid to a new file (optional)\n",
    "cropped_grid.to_file('G:/My Drive/SIGNAL/data/eems_avocado_esha/cropped_fishnet_grid.gpkg', layer='cropped_fishnet', driver='GPKG')"
   ]
  },
  {
   "cell_type": "code",
   "execution_count": null,
   "metadata": {},
   "outputs": [],
   "source": [
    "# Load the fishnet grid\n",
    "\n",
    "cropped_grid = gpd.read_file(r'G:/My Drive/SIGNAL/data/eems_avocado_esha/cropped_fishnet_grid.gpkg')"
   ]
  },
  {
   "cell_type": "code",
   "execution_count": null,
   "metadata": {},
   "outputs": [],
   "source": [
    "\n",
    "# Load the ag_greenbelt shapes\n",
    "ag_greenbelt = gpd.read_file(\"G:/My Drive/SIGNAL/data/zip_databasin/ag_greenbelts_02182021/ag_greenbelts_02182021.gpkg\", driver='GPKG')"
   ]
  },
  {
   "cell_type": "code",
   "execution_count": null,
   "metadata": {},
   "outputs": [],
   "source": [
    "# Perform a spatial join\n",
    "join = gpd.sjoin(cropped_grid, ag_greenbelt, how=\"left\", op=\"intersects\")\n"
   ]
  },
  {
   "cell_type": "code",
   "execution_count": null,
   "metadata": {},
   "outputs": [],
   "source": [
    "join"
   ]
  },
  {
   "cell_type": "code",
   "execution_count": null,
   "metadata": {},
   "outputs": [],
   "source": [
    "# Initialize 'greenbelt_presence' in the original fishnet DataFrame\n",
    "cropped_grid['greenbelt_presence'] = 0"
   ]
  },
  {
   "cell_type": "code",
   "execution_count": null,
   "metadata": {},
   "outputs": [],
   "source": [
    "# Update 'greenbelt_presence' based on 'index_right' from the join\n",
    "# If 'index_right' is not NaN, set 'greenbelt_presence' to 1\n",
    "cropped_grid['greenbelt_presence'] = pd.notnull(join['index_right']).astype(int)"
   ]
  },
  {
   "cell_type": "code",
   "execution_count": null,
   "metadata": {},
   "outputs": [],
   "source": [
    "# Reset the index of the cropped_grid DataFrame\n",
    "cropped_grid = cropped_grid.reset_index(drop=True)\n",
    "\n",
    "# Remove duplicates in the fishnet DataFrame and keep the first occurrence\n",
    "fishnet = cropped_grid[~cropped_grid.index.duplicated(keep='first')]"
   ]
  },
  {
   "cell_type": "code",
   "execution_count": null,
   "metadata": {},
   "outputs": [],
   "source": [
    "# Save the updated fishnet grid\n",
    "cropped_grid.to_file('updated_fishnet_with_greenbelt_presence.gpkg')\n"
   ]
  },
  {
   "cell_type": "code",
   "execution_count": null,
   "metadata": {},
   "outputs": [],
   "source": [
    "\n",
    "\n",
    "# Assuming 'cropped_grid' is your clipped fishnet grid GeoDataFrame\n",
    "# And 'raster_file.tif' is the path to your raster file\n",
    "\n",
    "# Define the statistics you want to extract from the raster for each polygon\n",
    "# In this case, we'll use 'mean' but you can use 'median', 'majority', 'sum', etc.\n",
    "stats = zonal_stats(cropped_grid, 'G:/My Drive/SIGNAL/data/eems_avocado_esha/rasters/ag_adjacency.tif', stats='mean', all_touched=True)\n",
    "\n",
    "# Extract the 'mean' value from the stats and assign it to a new column in your GeoDataFrame\n",
    "cropped_grid['RasterValue'] = [stat['mean'] for stat in stats]\n",
    "\n",
    "# Now, 'cropped_grid' contains a new column 'RasterValue' with the mean raster values for each cell\n"
   ]
  },
  {
   "cell_type": "code",
   "execution_count": null,
   "metadata": {},
   "outputs": [],
   "source": [
    "cropped_grid"
   ]
  },
  {
   "cell_type": "code",
   "execution_count": null,
   "metadata": {},
   "outputs": [],
   "source": [
    "cropped_grid['RasterValue'].sum()\n"
   ]
  }
 ],
 "metadata": {
  "kernelspec": {
   "display_name": "usra",
   "language": "python",
   "name": "python3"
  },
  "language_info": {
   "codemirror_mode": {
    "name": "ipython",
    "version": 3
   },
   "file_extension": ".py",
   "mimetype": "text/x-python",
   "name": "python",
   "nbconvert_exporter": "python",
   "pygments_lexer": "ipython3",
   "version": "3.11.6"
  }
 },
 "nbformat": 4,
 "nbformat_minor": 2
}
